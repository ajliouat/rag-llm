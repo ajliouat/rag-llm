{
 "cells": [
  {
   "cell_type": "code",
   "execution_count": null,
   "metadata": {},
   "outputs": [],
   "source": [
    "# Example: Benchmark retrieval performance\n",
    "import time\n",
    "from src.models.retrieval import DenseRetriever\n",
    "\n",
    "retriever = DenseRetriever()\n",
    "start = time.time()\n",
    "results = retriever.retrieve_documents(\"What is the capital of France?\", top_k=5)\n",
    "end = time.time()\n",
    "print(f\"Retrieval Time: {end - start:.4f}s\")\n",
    "print(results)"
   ]
  }
 ],
 "metadata": {
  "language_info": {
   "name": "python"
  }
 },
 "nbformat": 4,
 "nbformat_minor": 2
}
