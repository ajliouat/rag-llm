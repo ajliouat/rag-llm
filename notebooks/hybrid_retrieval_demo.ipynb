{
 "cells": [
  {
   "cell_type": "code",
   "execution_count": null,
   "metadata": {},
   "outputs": [],
   "source": [
    "# Hybrid Retrieval Demo\n",
    "from src.models.hybrid_retrieval import HybridRetriever\n",
    "\n",
    "# Initialize hybrid retriever\n",
    "retriever = HybridRetriever()\n",
    "\n",
    "# Retrieve documents\n",
    "query = \"What is the capital of France?\"\n",
    "results = retriever.retrieve_documents(query, top_k=5)\n",
    "\n",
    "# Print results\n",
    "print(results)"
   ]
  }
 ],
 "metadata": {
  "language_info": {
   "name": "python"
  }
 },
 "nbformat": 4,
 "nbformat_minor": 2
}
